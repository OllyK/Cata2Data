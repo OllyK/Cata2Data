{
  "nbformat": 4,
  "nbformat_minor": 0,
  "metadata": {
    "colab": {
      "provenance": [],
      "authorship_tag": "ABX9TyPsTKXB6NztAyFFvlCwfCxa",
      "include_colab_link": true
    },
    "kernelspec": {
      "name": "python3",
      "display_name": "Python 3"
    },
    "language_info": {
      "name": "python"
    }
  },
  "cells": [
    {
      "cell_type": "markdown",
      "metadata": {
        "id": "view-in-github",
        "colab_type": "text"
      },
      "source": [
        "<a href=\"https://colab.research.google.com/github/OllyK/Cata2Data/blob/colab/examples/lotsddr2/Create_LoTTS_Dataset.ipynb\" target=\"_parent\"><img src=\"https://colab.research.google.com/assets/colab-badge.svg\" alt=\"Open In Colab\"/></a>"
      ]
    },
    {
      "cell_type": "markdown",
      "source": [
        "## Create a LoTTS Dataset Using Cata2Data"
      ],
      "metadata": {
        "id": "0p1nWoeAcBL1"
      }
    },
    {
      "cell_type": "markdown",
      "source": [
        "To start, create a local clone of this repository\n",
        "\n",
        "Install cata2data into your local environment (We recommend that you should use a venv on your local machine).\n",
        "\n"
      ],
      "metadata": {
        "id": "IewboBsacOya"
      }
    },
    {
      "cell_type": "code",
      "execution_count": 1,
      "metadata": {
        "colab": {
          "base_uri": "https://localhost:8080/"
        },
        "id": "4OjNn-aHGrye",
        "outputId": "28c651a9-7e84-4f4e-dfac-6c9472e82716"
      },
      "outputs": [
        {
          "output_type": "stream",
          "name": "stdout",
          "text": [
            "Cloning into 'Cata2Data'...\n",
            "remote: Enumerating objects: 554, done.\u001b[K\n",
            "remote: Counting objects: 100% (187/187), done.\u001b[K\n",
            "remote: Compressing objects: 100% (81/81), done.\u001b[K\n",
            "remote: Total 554 (delta 112), reused 135 (delta 94), pack-reused 367 (from 1)\u001b[K\n",
            "Receiving objects: 100% (554/554), 6.16 MiB | 11.28 MiB/s, done.\n",
            "Resolving deltas: 100% (230/230), done.\n",
            "Processing ./Cata2Data\n",
            "  Installing build dependencies ... \u001b[?25l\u001b[?25hdone\n",
            "  Getting requirements to build wheel ... \u001b[?25l\u001b[?25hdone\n",
            "  Preparing metadata (pyproject.toml) ... \u001b[?25l\u001b[?25hdone\n",
            "Collecting astropy==5.3.4 (from cata2data==0.1.dev111)\n",
            "  Downloading astropy-5.3.4-cp310-cp310-manylinux_2_17_x86_64.manylinux2014_x86_64.whl.metadata (9.4 kB)\n",
            "Requirement already satisfied: beautifulsoup4 in /usr/local/lib/python3.10/dist-packages (from cata2data==0.1.dev111) (4.12.3)\n",
            "Requirement already satisfied: matplotlib in /usr/local/lib/python3.10/dist-packages (from cata2data==0.1.dev111) (3.7.1)\n",
            "Requirement already satisfied: numpy<2 in /usr/local/lib/python3.10/dist-packages (from cata2data==0.1.dev111) (1.26.4)\n",
            "Requirement already satisfied: pandas in /usr/local/lib/python3.10/dist-packages (from cata2data==0.1.dev111) (2.1.4)\n",
            "Collecting regions==0.7 (from cata2data==0.1.dev111)\n",
            "  Downloading regions-0.7-cp310-cp310-manylinux_2_5_x86_64.manylinux1_x86_64.manylinux_2_17_x86_64.manylinux2014_x86_64.whl.metadata (4.2 kB)\n",
            "Requirement already satisfied: requests in /usr/local/lib/python3.10/dist-packages (from cata2data==0.1.dev111) (2.32.3)\n",
            "Collecting spectral-cube==0.6.0 (from cata2data==0.1.dev111)\n",
            "  Downloading spectral_cube-0.6.0-py3-none-any.whl.metadata (3.3 kB)\n",
            "Requirement already satisfied: tqdm in /usr/local/lib/python3.10/dist-packages (from cata2data==0.1.dev111) (4.66.5)\n",
            "Requirement already satisfied: torch in /usr/local/lib/python3.10/dist-packages (from cata2data==0.1.dev111) (2.4.1+cu121)\n",
            "Requirement already satisfied: torchvision in /usr/local/lib/python3.10/dist-packages (from cata2data==0.1.dev111) (0.19.1+cu121)\n",
            "Requirement already satisfied: pyerfa>=2.0 in /usr/local/lib/python3.10/dist-packages (from astropy==5.3.4->cata2data==0.1.dev111) (2.0.1.4)\n",
            "Requirement already satisfied: PyYAML>=3.13 in /usr/local/lib/python3.10/dist-packages (from astropy==5.3.4->cata2data==0.1.dev111) (6.0.2)\n",
            "Requirement already satisfied: packaging>=19.0 in /usr/local/lib/python3.10/dist-packages (from astropy==5.3.4->cata2data==0.1.dev111) (24.1)\n",
            "Collecting radio-beam>=0.3.3 (from spectral-cube==0.6.0->cata2data==0.1.dev111)\n",
            "  Downloading radio_beam-0.3.7-py3-none-any.whl.metadata (1.5 kB)\n",
            "Requirement already satisfied: six in /usr/local/lib/python3.10/dist-packages (from spectral-cube==0.6.0->cata2data==0.1.dev111) (1.16.0)\n",
            "Requirement already satisfied: dask[array] in /usr/local/lib/python3.10/dist-packages (from spectral-cube==0.6.0->cata2data==0.1.dev111) (2024.8.0)\n",
            "Requirement already satisfied: joblib in /usr/local/lib/python3.10/dist-packages (from spectral-cube==0.6.0->cata2data==0.1.dev111) (1.4.2)\n",
            "Collecting casa-formats-io (from spectral-cube==0.6.0->cata2data==0.1.dev111)\n",
            "  Downloading casa_formats_io-0.3.0-cp39-abi3-manylinux_2_5_x86_64.manylinux1_x86_64.manylinux_2_17_x86_64.manylinux2014_x86_64.whl.metadata (1.2 kB)\n",
            "Requirement already satisfied: soupsieve>1.2 in /usr/local/lib/python3.10/dist-packages (from beautifulsoup4->cata2data==0.1.dev111) (2.6)\n",
            "Requirement already satisfied: contourpy>=1.0.1 in /usr/local/lib/python3.10/dist-packages (from matplotlib->cata2data==0.1.dev111) (1.3.0)\n",
            "Requirement already satisfied: cycler>=0.10 in /usr/local/lib/python3.10/dist-packages (from matplotlib->cata2data==0.1.dev111) (0.12.1)\n",
            "Requirement already satisfied: fonttools>=4.22.0 in /usr/local/lib/python3.10/dist-packages (from matplotlib->cata2data==0.1.dev111) (4.53.1)\n",
            "Requirement already satisfied: kiwisolver>=1.0.1 in /usr/local/lib/python3.10/dist-packages (from matplotlib->cata2data==0.1.dev111) (1.4.7)\n",
            "Requirement already satisfied: pillow>=6.2.0 in /usr/local/lib/python3.10/dist-packages (from matplotlib->cata2data==0.1.dev111) (10.4.0)\n",
            "Requirement already satisfied: pyparsing>=2.3.1 in /usr/local/lib/python3.10/dist-packages (from matplotlib->cata2data==0.1.dev111) (3.1.4)\n",
            "Requirement already satisfied: python-dateutil>=2.7 in /usr/local/lib/python3.10/dist-packages (from matplotlib->cata2data==0.1.dev111) (2.8.2)\n",
            "Requirement already satisfied: pytz>=2020.1 in /usr/local/lib/python3.10/dist-packages (from pandas->cata2data==0.1.dev111) (2024.2)\n",
            "Requirement already satisfied: tzdata>=2022.1 in /usr/local/lib/python3.10/dist-packages (from pandas->cata2data==0.1.dev111) (2024.1)\n",
            "Requirement already satisfied: charset-normalizer<4,>=2 in /usr/local/lib/python3.10/dist-packages (from requests->cata2data==0.1.dev111) (3.3.2)\n",
            "Requirement already satisfied: idna<4,>=2.5 in /usr/local/lib/python3.10/dist-packages (from requests->cata2data==0.1.dev111) (3.10)\n",
            "Requirement already satisfied: urllib3<3,>=1.21.1 in /usr/local/lib/python3.10/dist-packages (from requests->cata2data==0.1.dev111) (2.0.7)\n",
            "Requirement already satisfied: certifi>=2017.4.17 in /usr/local/lib/python3.10/dist-packages (from requests->cata2data==0.1.dev111) (2024.8.30)\n",
            "Requirement already satisfied: filelock in /usr/local/lib/python3.10/dist-packages (from torch->cata2data==0.1.dev111) (3.16.1)\n",
            "Requirement already satisfied: typing-extensions>=4.8.0 in /usr/local/lib/python3.10/dist-packages (from torch->cata2data==0.1.dev111) (4.12.2)\n",
            "Requirement already satisfied: sympy in /usr/local/lib/python3.10/dist-packages (from torch->cata2data==0.1.dev111) (1.13.2)\n",
            "Requirement already satisfied: networkx in /usr/local/lib/python3.10/dist-packages (from torch->cata2data==0.1.dev111) (3.3)\n",
            "Requirement already satisfied: jinja2 in /usr/local/lib/python3.10/dist-packages (from torch->cata2data==0.1.dev111) (3.1.4)\n",
            "Requirement already satisfied: fsspec in /usr/local/lib/python3.10/dist-packages (from torch->cata2data==0.1.dev111) (2024.6.1)\n",
            "Requirement already satisfied: scipy in /usr/local/lib/python3.10/dist-packages (from radio-beam>=0.3.3->spectral-cube==0.6.0->cata2data==0.1.dev111) (1.13.1)\n",
            "Requirement already satisfied: click>=8.1 in /usr/local/lib/python3.10/dist-packages (from dask[array]->spectral-cube==0.6.0->cata2data==0.1.dev111) (8.1.7)\n",
            "Requirement already satisfied: cloudpickle>=1.5.0 in /usr/local/lib/python3.10/dist-packages (from dask[array]->spectral-cube==0.6.0->cata2data==0.1.dev111) (2.2.1)\n",
            "Requirement already satisfied: partd>=1.4.0 in /usr/local/lib/python3.10/dist-packages (from dask[array]->spectral-cube==0.6.0->cata2data==0.1.dev111) (1.4.2)\n",
            "Requirement already satisfied: toolz>=0.10.0 in /usr/local/lib/python3.10/dist-packages (from dask[array]->spectral-cube==0.6.0->cata2data==0.1.dev111) (0.12.1)\n",
            "Requirement already satisfied: importlib-metadata>=4.13.0 in /usr/local/lib/python3.10/dist-packages (from dask[array]->spectral-cube==0.6.0->cata2data==0.1.dev111) (8.5.0)\n",
            "Requirement already satisfied: MarkupSafe>=2.0 in /usr/local/lib/python3.10/dist-packages (from jinja2->torch->cata2data==0.1.dev111) (2.1.5)\n",
            "Requirement already satisfied: mpmath<1.4,>=1.1.0 in /usr/local/lib/python3.10/dist-packages (from sympy->torch->cata2data==0.1.dev111) (1.3.0)\n",
            "Requirement already satisfied: zipp>=3.20 in /usr/local/lib/python3.10/dist-packages (from importlib-metadata>=4.13.0->dask[array]->spectral-cube==0.6.0->cata2data==0.1.dev111) (3.20.2)\n",
            "Requirement already satisfied: locket in /usr/local/lib/python3.10/dist-packages (from partd>=1.4.0->dask[array]->spectral-cube==0.6.0->cata2data==0.1.dev111) (1.0.0)\n",
            "Downloading astropy-5.3.4-cp310-cp310-manylinux_2_17_x86_64.manylinux2014_x86_64.whl (10.2 MB)\n",
            "\u001b[2K   \u001b[90m━━━━━━━━━━━━━━━━━━━━━━━━━━━━━━━━━━━━━━━━\u001b[0m \u001b[32m10.2/10.2 MB\u001b[0m \u001b[31m50.9 MB/s\u001b[0m eta \u001b[36m0:00:00\u001b[0m\n",
            "\u001b[?25hDownloading regions-0.7-cp310-cp310-manylinux_2_5_x86_64.manylinux1_x86_64.manylinux_2_17_x86_64.manylinux2014_x86_64.whl (703 kB)\n",
            "\u001b[2K   \u001b[90m━━━━━━━━━━━━━━━━━━━━━━━━━━━━━━━━━━━━━━━━\u001b[0m \u001b[32m703.8/703.8 kB\u001b[0m \u001b[31m28.6 MB/s\u001b[0m eta \u001b[36m0:00:00\u001b[0m\n",
            "\u001b[?25hDownloading spectral_cube-0.6.0-py3-none-any.whl (218 kB)\n",
            "\u001b[2K   \u001b[90m━━━━━━━━━━━━━━━━━━━━━━━━━━━━━━━━━━━━━━━━\u001b[0m \u001b[32m218.6/218.6 kB\u001b[0m \u001b[31m12.1 MB/s\u001b[0m eta \u001b[36m0:00:00\u001b[0m\n",
            "\u001b[?25hDownloading radio_beam-0.3.7-py3-none-any.whl (73 kB)\n",
            "\u001b[2K   \u001b[90m━━━━━━━━━━━━━━━━━━━━━━━━━━━━━━━━━━━━━━━━\u001b[0m \u001b[32m73.7/73.7 kB\u001b[0m \u001b[31m4.4 MB/s\u001b[0m eta \u001b[36m0:00:00\u001b[0m\n",
            "\u001b[?25hDownloading casa_formats_io-0.3.0-cp39-abi3-manylinux_2_5_x86_64.manylinux1_x86_64.manylinux_2_17_x86_64.manylinux2014_x86_64.whl (397 kB)\n",
            "\u001b[2K   \u001b[90m━━━━━━━━━━━━━━━━━━━━━━━━━━━━━━━━━━━━━━━━\u001b[0m \u001b[32m398.0/398.0 kB\u001b[0m \u001b[31m20.1 MB/s\u001b[0m eta \u001b[36m0:00:00\u001b[0m\n",
            "\u001b[?25hBuilding wheels for collected packages: cata2data\n",
            "  Building wheel for cata2data (pyproject.toml) ... \u001b[?25l\u001b[?25hdone\n",
            "  Created wheel for cata2data: filename=cata2data-0.1.dev111-py3-none-any.whl size=13203 sha256=8edfd12be9d1921cfbe1dc339d25365372b38f8efdf5ef236e4538352a764818\n",
            "  Stored in directory: /tmp/pip-ephem-wheel-cache-cea4nbvm/wheels/31/41/c3/3923686edf383507671c6f787f3b0f35d00c1642f37270f1e1\n",
            "Successfully built cata2data\n",
            "Installing collected packages: astropy, regions, radio-beam, casa-formats-io, spectral-cube, cata2data\n",
            "  Attempting uninstall: astropy\n",
            "    Found existing installation: astropy 6.1.3\n",
            "    Uninstalling astropy-6.1.3:\n",
            "      Successfully uninstalled astropy-6.1.3\n",
            "Successfully installed astropy-5.3.4 casa-formats-io-0.3.0 cata2data-0.1.dev111 radio-beam-0.3.7 regions-0.7 spectral-cube-0.6.0\n"
          ]
        }
      ],
      "source": [
        "!git clone https://github.com/mb010/Cata2Data.git && pip install ./Cata2Data"
      ]
    },
    {
      "cell_type": "markdown",
      "source": [
        "## Download the data\n",
        "\n",
        "Use the `data_scrapper.py` script to download the image files. If you want to just download one pointing (instead of all 841 pointings; 434 GB), then call it using the --test flag:"
      ],
      "metadata": {
        "id": "hszOwcQicuL7"
      }
    },
    {
      "cell_type": "code",
      "source": [
        "%%python Cata2Data/examples/lotssdr2/data_scrapper.py --dir downloaded_data/ --test"
      ],
      "metadata": {
        "colab": {
          "base_uri": "https://localhost:8080/"
        },
        "id": "lAC3ao-_H36q",
        "outputId": "0f372f7b-c30d-40ac-bc70-ed2f4ce128e5"
      },
      "execution_count": 2,
      "outputs": [
        {
          "output_type": "stream",
          "name": "stderr",
          "text": [
            "\r  0%|          | 0/841 [00:00<?, ?it/s]\r  0%|          | 0/841 [00:26<?, ?it/s]\n"
          ]
        }
      ]
    },
    {
      "cell_type": "markdown",
      "source": [
        "This will have downloaded a .fits image file"
      ],
      "metadata": {
        "id": "nRpXlcpgf3y4"
      }
    },
    {
      "cell_type": "code",
      "source": [
        "!ls downloaded_data/public/DR2/mosaics/P000+23/"
      ],
      "metadata": {
        "id": "bEKXzeCNf3ZZ",
        "outputId": "0e4de7ca-04fa-4070-d192-5b74a986bfdb",
        "colab": {
          "base_uri": "https://localhost:8080/"
        }
      },
      "execution_count": 3,
      "outputs": [
        {
          "output_type": "stream",
          "name": "stdout",
          "text": [
            "mosaic-blanked.fits\n"
          ]
        }
      ]
    },
    {
      "cell_type": "markdown",
      "source": [
        "Next, you need to download the catalog directly from the website at this link (3.9 GB). This dataloader is currently built to work with the [Radio-optical cross match](https://lofar-surveys.org/dr2_release.html#:~:text=Radio%2Doptical%20crossmatch%20catalogue) catalog described in [Hardcastle et al. 2023](https://arxiv.org/abs/2309.00102)."
      ],
      "metadata": {
        "id": "E-GKT9tMgZmg"
      }
    },
    {
      "cell_type": "code",
      "source": [
        "!wget -P downloaded_data/ https://lofar-surveys.org/public/DR2/catalogues/combined-release-v1.1-LM_opt_mass.fits"
      ],
      "metadata": {
        "id": "FH9feKhYgZNg",
        "outputId": "ebc4cea5-dea6-479a-ca9f-6d32e1c382ce",
        "colab": {
          "base_uri": "https://localhost:8080/"
        }
      },
      "execution_count": 4,
      "outputs": [
        {
          "output_type": "stream",
          "name": "stdout",
          "text": [
            "--2024-09-23 16:22:14--  https://lofar-surveys.org/public/DR2/catalogues/combined-release-v1.1-LM_opt_mass.fits\n",
            "Resolving lofar-surveys.org (lofar-surveys.org)... 147.197.135.238\n",
            "Connecting to lofar-surveys.org (lofar-surveys.org)|147.197.135.238|:443... connected.\n",
            "HTTP request sent, awaiting response... 200 OK\n",
            "Length: 3934039680 (3.7G) [image/fits]\n",
            "Saving to: ‘downloaded_data/combined-release-v1.1-LM_opt_mass.fits’\n",
            "\n",
            "combined-release-v1 100%[===================>]   3.66G  20.0MB/s    in 2m 41s  \n",
            "\n",
            "2024-09-23 16:24:55 (23.3 MB/s) - ‘downloaded_data/combined-release-v1.1-LM_opt_mass.fits’ saved [3934039680/3934039680]\n",
            "\n"
          ]
        }
      ]
    },
    {
      "cell_type": "markdown",
      "source": [
        "## Split the Catalogue\n",
        "\n",
        "This will take the full catalog and split it into one catalog per image and save those into the folder where each of those images is stored. This is what Cata2Data currently expects - lists of images and catalogs with equal length to use to construct a dataloader."
      ],
      "metadata": {
        "id": "gD-CHCdVh4mk"
      }
    },
    {
      "cell_type": "code",
      "source": [
        "from astropy.table import Table\n",
        "\n",
        "t = Table.read(\"downloaded_data/combined-release-v1.1-LM_opt_mass.fits\", memmap=True)\n",
        "t.meta"
      ],
      "metadata": {
        "id": "vYz-qdGXl6P_",
        "outputId": "ec81f130-2131-46f2-e47d-d9a2fbb58628",
        "colab": {
          "base_uri": "https://localhost:8080/"
        }
      },
      "execution_count": 1,
      "outputs": [
        {
          "output_type": "stream",
          "name": "stderr",
          "text": [
            "WARNING: UnitsWarning: 'dex(solMass)' did not parse as fits unit: Unit 'dex' not supported by the FITS standard.  If this is meant to be a custom unit, define it with 'u.def_unit'. To have it recognized inside a file reader or other code, enable it with 'u.add_enabled_units'. For details, see https://docs.astropy.org/en/latest/units/combining_and_defining.html [astropy.units.core]\n",
            "WARNING:astropy:UnitsWarning: 'dex(solMass)' did not parse as fits unit: Unit 'dex' not supported by the FITS standard.  If this is meant to be a custom unit, define it with 'u.def_unit'. To have it recognized inside a file reader or other code, enable it with 'u.add_enabled_units'. For details, see https://docs.astropy.org/en/latest/units/combining_and_defining.html\n"
          ]
        },
        {
          "output_type": "execute_result",
          "data": {
            "text/plain": [
              "OrderedDict([('EXTNAME', 'Joined'),\n",
              "             ('TCOMM53',\n",
              "              'Profile-weighted fraction of the flux from other sources divided by the total flux in r (typically [0,1])'),\n",
              "             ('TUCD53', 'pos.angDistance'),\n",
              "             ('DATE-HDU', '2023-06-10T10:05:15'),\n",
              "             ('STILVERS', '4.1'),\n",
              "             ('STILCLAS', 'uk.ac.starlink.votable.FitsPlusTableWriter'),\n",
              "             ('TCOMM1', 'Object identifier (ILT name)'),\n",
              "             ('TCOMM2', 'Radio right ascension (mean position )'),\n",
              "             ('TCOMM3', 'Radio declination (mean position)'),\n",
              "             ('TCOMM4', 'Error on radio right ascension'),\n",
              "             ('TCOMM5', 'Error on radio declination'),\n",
              "             ('TCOMM6', '144-MHz total flux density'),\n",
              "             ('TCOMM7', 'Error on total flux density'),\n",
              "             ('TCOMM8', '144-MHz peak flux density'),\n",
              "             ('TCOMM9', 'Error on peak flux density'),\n",
              "             ('TCOMM10', 'PyBDSF source code or Z for composite source'),\n",
              "             ('TCOMM11', 'LoTSS mosaic of source image'),\n",
              "             ('TCOMM12', 'Major axis of fitted Gaussian'),\n",
              "             ('TCOMM13', 'Minor axis of fitted Gaussian'),\n",
              "             ('TCOMM14', 'Position angle of fitted Gaussian'),\n",
              "             ('TCOMM15', 'Error on major axis'),\n",
              "             ('TCOMM16', 'Error on minor axis'),\n",
              "             ('TCOMM17', 'Error on position angle'),\n",
              "             ('TCOMM18', 'Deconvolved major axis of fitted Gaussian'),\n",
              "             ('TCOMM19', 'Deconvolved minor axis of fitted Gaussian'),\n",
              "             ('TCOMM20', 'Deconvolved position angle of fitted Gaussian'),\n",
              "             ('TCOMM21', 'rms noise in island'),\n",
              "             ('TCOMM22', 'Flag for workflow status (internal)'),\n",
              "             ('TCOMM23', 'Flag for workflow status (internal) (5)'),\n",
              "             ('TCOMM24', 'Prefilter status (internal)'),\n",
              "             ('TCOMM25', 'Postfilter status (internal)'),\n",
              "             ('TCOMM26', 'Final likelihood ratio value (internal)'),\n",
              "             ('TCOMM27', 'Optical right ascension (see Position_from)'),\n",
              "             ('TCOMM28', 'Optical declination (see Position_from)'),\n",
              "             ('TCOMM29',\n",
              "              'Max size of convex hull surrounding components for composite sources'),\n",
              "             ('TCOMM30',\n",
              "              'Transverse size of convex hull surrounding components for composite sources'),\n",
              "             ('TCOMM31',\n",
              "              'Position angle on the sky of longest axis of convex hull'),\n",
              "             ('TCOMM32', 'Number of components used to form composite source'),\n",
              "             ('TCOMM33', 'Quality of association from RGZ(L)'),\n",
              "             ('TCOMM34', 'Quality of association from RGZ(L)'),\n",
              "             ('TCOMM35', 'Blend probability from RGZ(L) or manual flagging)'),\n",
              "             ('TCOMM36', 'Other problem probability from RGZ(L)'),\n",
              "             ('TCOMM37', 'Origin of radio component assignment'),\n",
              "             ('TCOMM38', 'Origin of optRA, optDec'),\n",
              "             ('TCOMM39', 'Original name e.g. in RGZ if a composite source'),\n",
              "             ('TCOMM40',\n",
              "              'Right ascension of positional match in Legacy/WISE crossmatch catalogue'),\n",
              "             ('TCOMM41',\n",
              "              'Declination of positional match in Legacy/WISE crossmatch catalogue'),\n",
              "             ('TCOMM42', 'Legacy ID if any'),\n",
              "             ('TCOMM43', 'UNWISE ID if any'),\n",
              "             ('TCOMM44',\n",
              "              'Legacy ID if present else WISE ID else blank if no ID exists'),\n",
              "             ('TCOMM45',\n",
              "              'Offset between optRA, optDec and ID_RA, ID_DEC (non-zero only for visual inspection)'),\n",
              "             ('TCOMM46',\n",
              "              'Unique source ID combining release, brick ID and objid'),\n",
              "             ('TCOMM47', 'Healpix of Legacy brick (internal)'),\n",
              "             ('TCOMM48', 'Legacy release number'),\n",
              "             ('TCOMM49', 'Legacy brick ID'),\n",
              "             ('TCOMM50', 'Legacy object ID'),\n",
              "             ('TCOMM51',\n",
              "              'bitwise mask indicating that an object touches a pixel in the `coadd/*/*/*maskbits*` maps, as catalogued on the DR8 bitmasks page'),\n",
              "             ('TCOMM52',\n",
              "              'Profile-weighted fraction of the flux from other sources divided by the total flux in g (typically [0,1])'),\n",
              "             ('TCOMM54',\n",
              "              'Profile-weighted fraction of the flux from other sources divided by the total flux in z (typically [0,1])'),\n",
              "             ('TCOMM55', 'Morphological model (1)'),\n",
              "             ('TCOMM56', 'Right ascension of match in Legacy catalogue'),\n",
              "             ('TCOMM57', 'Declination of match in Legacy catalogue'),\n",
              "             ('TCOMM58',\n",
              "              \"Star likelihood based on GMM modelling (type='PSF' sources only)\"),\n",
              "             ('TCOMM59',\n",
              "              'Likely star based on pstar or proper motion (deprecated), blank if no match'),\n",
              "             ('TCOMM60',\n",
              "              'Bitwise mask set if the central pixel from any image satisfies each condition in any of g, r or z as catalogued on the DR8 bitmasks page'),\n",
              "             ('TCOMM61',\n",
              "              'Gaussian Mixture Model component to which source belongs (and hence the gpz++ class used for prediction)'),\n",
              "             ('TCOMM62', 'Photo-z estimate'),\n",
              "             ('TCOMM63',\n",
              "              'Predicted 1-sigma uncertainty on photometric redshift (after magnitude calibration)'),\n",
              "             ('TCOMM64',\n",
              "              'gpz++ predicted variance from density of training set'),\n",
              "             ('TCOMM65',\n",
              "              'gpz++ predicted variance from noise in training set'),\n",
              "             ('TCOMM66',\n",
              "              'gpz++ predicted variance from noise in fluxes used in prediction'),\n",
              "             ('TCOMM67',\n",
              "              'Predicted photo-z quality flag, 0 if bad, 1 if good (2)'),\n",
              "             ('TCOMM68', 'SDSS spectroscopic redshift if available'),\n",
              "             ('TCOMM69', '0 if SDSS redshift is good, 1 if bad'),\n",
              "             ('TCOMM70', 'SDSS plate number'),\n",
              "             ('TCOMM71', 'SDSS MJD'),\n",
              "             ('TCOMM72', 'SDSS fibre ID'),\n",
              "             ('TCOMM73', 'HETDEX spectroscopic redshift if available'),\n",
              "             ('TCOMM74', 'HETDEX spectroscopic redshift confidence'),\n",
              "             ('TCOMM75', 'HETDEX source ID'),\n",
              "             ('TCOMM76', 'DESI spectroscopic redshift if available'),\n",
              "             ('TCOMM77', 'DESI spectroscopic redshift error'),\n",
              "             ('TCOMM78', 'DESI source ID'),\n",
              "             ('TCOMM79', 'ID in 2RXS'),\n",
              "             ('TCOMM80', 'ID in XMM source catalogue'),\n",
              "             ('TCOMM81',\n",
              "              'Boolean flag to indicate whether source is resolved'),\n",
              "             ('TCOMM82',\n",
              "              'Estimate of angular size, only valid for sources with Resolved == True'),\n",
              "             ('TCOMM83',\n",
              "              'Spec-z if available and good, else photo-z if available and good, else blank (3)'),\n",
              "             ('TCOMM84', 'String describing origin of z_best'),\n",
              "             ('TCOMM85', 'LAS times angular size distance (4)'),\n",
              "             ('TCOMM86', 'Radio luminosity in W/Hz for alpha=0.7 (4)'),\n",
              "             ('TCOMM87', 'Which of the two fields the data come from'),\n",
              "             ('TCOMM88',\n",
              "              'Flag to say whether source is in the DESI Legacy sky area'),\n",
              "             ('TCOMM89', 'Flux density from LoMorph code'),\n",
              "             ('TCOMM90', 'Size from LoMorph code'),\n",
              "             ('TCOMM91', 'Flag to say that LoMorph flux is bad'),\n",
              "             ('TCOMM92', 'Flag to say that LoMorph mask is bad'),\n",
              "             ('TCOMM93', 'Source for the LAS column'),\n",
              "             ('TCOMM94', 'Magnitude in g-band'),\n",
              "             ('TCOMM95',\n",
              "              'Magnitude error in g-band, or blank for upper limit'),\n",
              "             ('TCOMM96', 'Magnitude in r-band'),\n",
              "             ('TCOMM97',\n",
              "              'Magnitude error in r-band, or blank for upper limit'),\n",
              "             ('TCOMM98', 'Magnitude in z-band'),\n",
              "             ('TCOMM99',\n",
              "              'Magnitude error in z-band, or blank for upper limit'),\n",
              "             ('TCOMM100', 'Magnitude in WISE band 1'),\n",
              "             ('TCOMM101',\n",
              "              'Magnitude error in WISE band 1, or blank for upper limit'),\n",
              "             ('TCOMM102', 'Magnitude in WISE band 2'),\n",
              "             ('TCOMM103',\n",
              "              'Magnitude error in WISE band 2, or blank for upper limit'),\n",
              "             ('TCOMM104', 'Magnitude in WISE band 3'),\n",
              "             ('TCOMM105',\n",
              "              'Magnitude error in WISE band 3, or blank for upper limit'),\n",
              "             ('TCOMM106', 'Magnitude in WISE band 4'),\n",
              "             ('TCOMM107',\n",
              "              'Magnitude error in WISE band 4, or blank for upper limit'),\n",
              "             ('TCOMM108', 'Origin of the WISE measurements'),\n",
              "             ('TCOMM109', 'Mass estimate'),\n",
              "             ('TCOMM110', '68% lower confidence bound on mass'),\n",
              "             ('TCOMM111', '68% upper confidence bound on mass'),\n",
              "             ('TCOMM112', 'Rest-frame g-band magnitude from SED fit'),\n",
              "             ('TCOMM113', 'Rest-frame r-band magnitude from SED fit'),\n",
              "             ('TCOMM114', 'Rest-frame z-band magnitude from SED fit'),\n",
              "             ('TCOMM115', 'Rest-frame U-band magnitude from SED fit'),\n",
              "             ('TCOMM116', 'Rest-frame V-band magnitude from SED fit'),\n",
              "             ('TCOMM117', 'Rest-frame J-band magnitude from SED fit'),\n",
              "             ('TCOMM118', 'Rest-frame K-band magnitude from SED fit'),\n",
              "             ('TCOMM119', 'Rest-frame WISE band-1 magnitude from SED fit'),\n",
              "             ('TCOMM120', 'Rest-frame WISE band-1 magnitude from SED fit'),\n",
              "             ('TCOMM121',\n",
              "              'Half-light radius of Legacy optical exponential/DeVaucouleurs/composite model'),\n",
              "             ('TCOMM122', '1-sigma uncertainty on r_50'),\n",
              "             ('TCOMM123', 'True if a mass is measured and reliable')])"
            ]
          },
          "metadata": {},
          "execution_count": 1
        }
      ]
    },
    {
      "cell_type": "code",
      "source": [
        "t['RA']"
      ],
      "metadata": {
        "id": "OabgQEs4u3o9",
        "outputId": "fdd320e9-687a-476f-be40-65a4514e890c",
        "colab": {
          "base_uri": "https://localhost:8080/"
        }
      },
      "execution_count": 4,
      "outputs": [
        {
          "output_type": "execute_result",
          "data": {
            "text/plain": [
              "<Column name='RA' dtype='float64' unit='deg' length=4167359>\n",
              " 0.0001397891057877132\n",
              "0.00011082670675932604\n",
              " 0.0001816635306256531\n",
              "0.00023666072613770517\n",
              " 0.0003524535386459082\n",
              " 0.0003573802828782391\n",
              "0.00044235317748270164\n",
              " 0.0005162365512774159\n",
              " 0.0006475578061639897\n",
              " 0.0006889562333691757\n",
              " 0.0007453990920034403\n",
              " 0.0008821790719935052\n",
              "                   ...\n",
              "     359.9991599081277\n",
              "     359.9992068877408\n",
              "     359.9993720624978\n",
              "    359.99935940683304\n",
              "     359.9994620133685\n",
              "    359.99955121832613\n",
              "     359.9996404494238\n",
              "    359.99966051410416\n",
              "     359.9997741092799\n",
              "    359.99984246358594\n",
              "    359.99996960231243\n",
              "    359.99996945769766"
            ]
          },
          "metadata": {},
          "execution_count": 4
        }
      ]
    },
    {
      "cell_type": "code",
      "source": [
        "!python Cata2Data/examples/lotssdr2/catalog_splitter.py --catalogue_path downloaded_data/combined-release-v1.1-LM_opt_mass.fits --image_paths downloaded_data/public/DR2/mosaics/P000+23/\n"
      ],
      "metadata": {
        "id": "Y7xYjQ5-V3tR",
        "outputId": "8f84dad4-a58e-4eb7-d4cc-465b6f3bdf9d",
        "colab": {
          "base_uri": "https://localhost:8080/"
        }
      },
      "execution_count": 21,
      "outputs": [
        {
          "output_type": "stream",
          "name": "stdout",
          "text": [
            "['downloaded_data/public/DR2/mosaics/P000+23/mosaic-blanked.fits']\n",
            "\u001b[0;33mWARNING\u001b[0m: UnitsWarning: 'dex(solMass)' did not parse as fits unit: Unit 'dex' not supported by the FITS standard.  If this is meant to be a custom unit, define it with 'u.def_unit'. To have it recognized inside a file reader or other code, enable it with 'u.add_enabled_units'. For details, see https://docs.astropy.org/en/latest/units/combining_and_defining.html [astropy.units.core]\n",
            "^C\n"
          ]
        }
      ]
    },
    {
      "cell_type": "code",
      "source": [
        "from astropy.io import fits\n",
        "from astropy.wcs import WCS\n",
        "\n",
        "with fits.open('downloaded_data/public/DR2/mosaics/P000+23/mosaic-blanked.fits') as hdul:\n",
        "    wcs = WCS(hdul[0].header)\n",
        "    image_data = hdul[0].data\n",
        "image_data.shape"
      ],
      "metadata": {
        "id": "BZ60puEYmfLQ",
        "outputId": "f07ec104-eba2-4d8b-c885-8f4ab18b450e",
        "colab": {
          "base_uri": "https://localhost:8080/"
        }
      },
      "execution_count": 32,
      "outputs": [
        {
          "output_type": "execute_result",
          "data": {
            "text/plain": [
              "(8938, 8938)"
            ]
          },
          "metadata": {},
          "execution_count": 32
        }
      ]
    },
    {
      "cell_type": "code",
      "source": [
        "df = t.to_pandas()"
      ],
      "metadata": {
        "id": "T64T40KMn70T",
        "outputId": "82c20da6-595a-4a2a-9a43-2df4fae22114",
        "colab": {
          "base_uri": "https://localhost:8080/",
          "height": 144
        }
      },
      "execution_count": 2,
      "outputs": [
        {
          "output_type": "error",
          "ename": "NameError",
          "evalue": "name 't' is not defined",
          "traceback": [
            "\u001b[0;31m---------------------------------------------------------------------------\u001b[0m",
            "\u001b[0;31mNameError\u001b[0m                                 Traceback (most recent call last)",
            "\u001b[0;32m<ipython-input-2-96d3ee51a627>\u001b[0m in \u001b[0;36m<cell line: 1>\u001b[0;34m()\u001b[0m\n\u001b[0;32m----> 1\u001b[0;31m \u001b[0mdf\u001b[0m \u001b[0;34m=\u001b[0m \u001b[0mt\u001b[0m\u001b[0;34m.\u001b[0m\u001b[0mto_pandas\u001b[0m\u001b[0;34m(\u001b[0m\u001b[0;34m)\u001b[0m\u001b[0;34m\u001b[0m\u001b[0;34m\u001b[0m\u001b[0m\n\u001b[0m",
            "\u001b[0;31mNameError\u001b[0m: name 't' is not defined"
          ]
        }
      ]
    },
    {
      "cell_type": "code",
      "source": [
        "df = df.dropna(subset=[\"RA\", \"DEC\"])\n",
        "field_name = os.path.dirname('downloaded_data/public/DR2/mosaics/P000+23/mosaic-blanked.fits').split(\"/\")[-1]\n",
        "original_sample_count = df.shape[0]\n",
        "df = df.loc[t[\"Mosaic_ID\"] == field_name.encode(\"UTF-8\")]\n",
        "print(\n",
        "    f\"SIMPLE FILTER: field_name: {field_name}; samples: {df.shape[0]}; original_sample_count: {original_sample_count}; sample_estimate: {int(1/841*original_sample_count)}\"\n",
        ")\n",
        "df"
      ],
      "metadata": {
        "id": "aGYxRn_fnVUD",
        "outputId": "cb33be22-726e-4f45-8e24-c3c2fada1599",
        "colab": {
          "base_uri": "https://localhost:8080/",
          "height": 216
        }
      },
      "execution_count": 1,
      "outputs": [
        {
          "output_type": "error",
          "ename": "NameError",
          "evalue": "name 'df' is not defined",
          "traceback": [
            "\u001b[0;31m---------------------------------------------------------------------------\u001b[0m",
            "\u001b[0;31mNameError\u001b[0m                                 Traceback (most recent call last)",
            "\u001b[0;32m<ipython-input-1-491d05884c33>\u001b[0m in \u001b[0;36m<cell line: 1>\u001b[0;34m()\u001b[0m\n\u001b[0;32m----> 1\u001b[0;31m \u001b[0mdf\u001b[0m \u001b[0;34m=\u001b[0m \u001b[0mdf\u001b[0m\u001b[0;34m.\u001b[0m\u001b[0mdropna\u001b[0m\u001b[0;34m(\u001b[0m\u001b[0msubset\u001b[0m\u001b[0;34m=\u001b[0m\u001b[0;34m[\u001b[0m\u001b[0;34m\"RA\"\u001b[0m\u001b[0;34m,\u001b[0m \u001b[0;34m\"DEC\"\u001b[0m\u001b[0;34m]\u001b[0m\u001b[0;34m)\u001b[0m\u001b[0;34m\u001b[0m\u001b[0;34m\u001b[0m\u001b[0m\n\u001b[0m\u001b[1;32m      2\u001b[0m \u001b[0mfield_name\u001b[0m \u001b[0;34m=\u001b[0m \u001b[0mos\u001b[0m\u001b[0;34m.\u001b[0m\u001b[0mpath\u001b[0m\u001b[0;34m.\u001b[0m\u001b[0mdirname\u001b[0m\u001b[0;34m(\u001b[0m\u001b[0;34m'downloaded_data/public/DR2/mosaics/P000+23/mosaic-blanked.fits'\u001b[0m\u001b[0;34m)\u001b[0m\u001b[0;34m.\u001b[0m\u001b[0msplit\u001b[0m\u001b[0;34m(\u001b[0m\u001b[0;34m\"/\"\u001b[0m\u001b[0;34m)\u001b[0m\u001b[0;34m[\u001b[0m\u001b[0;34m-\u001b[0m\u001b[0;36m1\u001b[0m\u001b[0;34m]\u001b[0m\u001b[0;34m\u001b[0m\u001b[0;34m\u001b[0m\u001b[0m\n\u001b[1;32m      3\u001b[0m \u001b[0moriginal_sample_count\u001b[0m \u001b[0;34m=\u001b[0m \u001b[0mdf\u001b[0m\u001b[0;34m.\u001b[0m\u001b[0mshape\u001b[0m\u001b[0;34m[\u001b[0m\u001b[0;36m0\u001b[0m\u001b[0;34m]\u001b[0m\u001b[0;34m\u001b[0m\u001b[0;34m\u001b[0m\u001b[0m\n\u001b[1;32m      4\u001b[0m \u001b[0mdf\u001b[0m \u001b[0;34m=\u001b[0m \u001b[0mdf\u001b[0m\u001b[0;34m.\u001b[0m\u001b[0mloc\u001b[0m\u001b[0;34m[\u001b[0m\u001b[0mt\u001b[0m\u001b[0;34m[\u001b[0m\u001b[0;34m\"Mosaic_ID\"\u001b[0m\u001b[0;34m]\u001b[0m \u001b[0;34m==\u001b[0m \u001b[0mfield_name\u001b[0m\u001b[0;34m.\u001b[0m\u001b[0mencode\u001b[0m\u001b[0;34m(\u001b[0m\u001b[0;34m\"UTF-8\"\u001b[0m\u001b[0;34m)\u001b[0m\u001b[0;34m]\u001b[0m\u001b[0;34m\u001b[0m\u001b[0;34m\u001b[0m\u001b[0m\n\u001b[1;32m      5\u001b[0m print(\n",
            "\u001b[0;31mNameError\u001b[0m: name 'df' is not defined"
          ]
        }
      ]
    },
    {
      "cell_type": "code",
      "source": [
        "! ls downloaded_data/public/DR2/mosaics/P000+23/"
      ],
      "metadata": {
        "id": "UF-58BEij-lK",
        "outputId": "a483bd38-15b5-46e2-b3fe-e7c4a223712a",
        "colab": {
          "base_uri": "https://localhost:8080/"
        }
      },
      "execution_count": 29,
      "outputs": [
        {
          "output_type": "stream",
          "name": "stdout",
          "text": [
            "mosaic-blanked.fits\n"
          ]
        }
      ]
    },
    {
      "cell_type": "code",
      "source": [],
      "metadata": {
        "id": "_w_YoE-xnUYM"
      },
      "execution_count": null,
      "outputs": []
    },
    {
      "cell_type": "code",
      "source": [
        "import site\n",
        "site.main()"
      ],
      "metadata": {
        "id": "mKKkk6OCX5y9"
      },
      "execution_count": 14,
      "outputs": []
    },
    {
      "cell_type": "code",
      "source": [
        "from data import LoTTSDataset\n",
        "from torchvision.transforms import v2\n",
        "import torch\n",
        "\n",
        "transforms = v2.Compose(\n",
        "    [\n",
        "        v2.ToImage(),\n",
        "        v2.ToDtype(torch.float32),\n",
        "        v2.Resize(size=(64, 64)),\n",
        "    ]\n",
        ")\n",
        "\n",
        "data = LoTTSDataset(\n",
        "    data_folder=\"downloaded_data\",  # Change this to where you saved your data\n",
        "    cutout_scaling=1.5,\n",
        "    transform=transforms,\n",
        ")\n",
        "\n",
        "for i in range(len(data)):\n",
        "    if i > 10:\n",
        "        break\n",
        "    data.plot(\n",
        "        i,\n",
        "        contours=True,\n",
        "        sigma_name=\"Isl_rms\",\n",
        "        min_sigma=2,\n",
        "        title=data.df.iloc[i][\"Source_Name\"] + data.df.iloc[i][\"S_Code\"],\n",
        "    )\n",
        "\n",
        "data.df.head()"
      ],
      "metadata": {
        "id": "AnbFg6PyVx21",
        "outputId": "79ac5f13-6496-4036-e154-670122b4c331",
        "colab": {
          "base_uri": "https://localhost:8080/",
          "height": 400
        }
      },
      "execution_count": 24,
      "outputs": [
        {
          "output_type": "stream",
          "name": "stdout",
          "text": [
            "Found 0 images and 0 catalogues in .downloaded_data. Using 0 fields.\n",
            "WARNING: Only one image found. Using this image for training. Consider training on Sample size instead.\n"
          ]
        },
        {
          "output_type": "error",
          "ename": "ValueError",
          "evalue": "No objects to concatenate",
          "traceback": [
            "\u001b[0;31m---------------------------------------------------------------------------\u001b[0m",
            "\u001b[0;31mValueError\u001b[0m                                Traceback (most recent call last)",
            "\u001b[0;32m<ipython-input-24-d380330d51b6>\u001b[0m in \u001b[0;36m<cell line: 13>\u001b[0;34m()\u001b[0m\n\u001b[1;32m     11\u001b[0m )\n\u001b[1;32m     12\u001b[0m \u001b[0;34m\u001b[0m\u001b[0m\n\u001b[0;32m---> 13\u001b[0;31m data = LoTTSDataset(\n\u001b[0m\u001b[1;32m     14\u001b[0m     \u001b[0mdata_folder\u001b[0m\u001b[0;34m=\u001b[0m\u001b[0;34m\".downloaded_data\"\u001b[0m\u001b[0;34m,\u001b[0m  \u001b[0;31m# Change this to where you saved your data\u001b[0m\u001b[0;34m\u001b[0m\u001b[0;34m\u001b[0m\u001b[0m\n\u001b[1;32m     15\u001b[0m     \u001b[0mcutout_scaling\u001b[0m\u001b[0;34m=\u001b[0m\u001b[0;36m1.5\u001b[0m\u001b[0;34m,\u001b[0m\u001b[0;34m\u001b[0m\u001b[0;34m\u001b[0m\u001b[0m\n",
            "\u001b[0;32m/content/data.py\u001b[0m in \u001b[0;36mLoTTSDataset\u001b[0;34m(data_folder, catalogue_name, image_name, square, patch_size, cutout_scaling, transform, targets, cutout_shape, sample_limit, train, train_size)\u001b[0m\n\u001b[1;32m    310\u001b[0m \u001b[0;34m\u001b[0m\u001b[0m\n\u001b[1;32m    311\u001b[0m     \u001b[0;31m# Create the dataset\u001b[0m\u001b[0;34m\u001b[0m\u001b[0;34m\u001b[0m\u001b[0m\n\u001b[0;32m--> 312\u001b[0;31m     data = cata2data.CataData(\n\u001b[0m\u001b[1;32m    313\u001b[0m         \u001b[0mcatalogue_paths\u001b[0m\u001b[0;34m=\u001b[0m\u001b[0mcatalogue_paths\u001b[0m\u001b[0;34m[\u001b[0m\u001b[0mstart\u001b[0m\u001b[0;34m:\u001b[0m\u001b[0mend\u001b[0m\u001b[0;34m]\u001b[0m\u001b[0;34m,\u001b[0m\u001b[0;34m\u001b[0m\u001b[0;34m\u001b[0m\u001b[0m\n\u001b[1;32m    314\u001b[0m         \u001b[0mimage_paths\u001b[0m\u001b[0;34m=\u001b[0m\u001b[0mimage_paths\u001b[0m\u001b[0;34m[\u001b[0m\u001b[0mstart\u001b[0m\u001b[0;34m:\u001b[0m\u001b[0mend\u001b[0m\u001b[0;34m]\u001b[0m\u001b[0;34m,\u001b[0m\u001b[0;34m\u001b[0m\u001b[0;34m\u001b[0m\u001b[0m\n",
            "\u001b[0;32m/content/Cata2Data/src/cata2data/cata2data.py\u001b[0m in \u001b[0;36m__init__\u001b[0;34m(self, catalogue_paths, image_paths, field_names, cutout_shape, memmap, targets, transform, catalogue_preprocessing, wcs_preprocessing, fits_index_catalogue, fits_index_images, image_drop_axes, origin, spectral_axis, stokes_axis, return_wcs, fill_value, overlap, **kwargs)\u001b[0m\n\u001b[1;32m    121\u001b[0m         \u001b[0mself\u001b[0m\u001b[0;34m.\u001b[0m\u001b[0mimages\u001b[0m\u001b[0;34m,\u001b[0m \u001b[0mself\u001b[0m\u001b[0;34m.\u001b[0m\u001b[0mwcs\u001b[0m \u001b[0;34m=\u001b[0m \u001b[0mself\u001b[0m\u001b[0;34m.\u001b[0m\u001b[0m_build_images\u001b[0m\u001b[0;34m(\u001b[0m\u001b[0mimage_drop_axes\u001b[0m\u001b[0;34m)\u001b[0m\u001b[0;34m\u001b[0m\u001b[0;34m\u001b[0m\u001b[0m\n\u001b[1;32m    122\u001b[0m         self.df = (\n\u001b[0;32m--> 123\u001b[0;31m             \u001b[0mself\u001b[0m\u001b[0;34m.\u001b[0m\u001b[0m_build_df\u001b[0m\u001b[0;34m(\u001b[0m\u001b[0;34m)\u001b[0m\u001b[0;34m\u001b[0m\u001b[0;34m\u001b[0m\u001b[0m\n\u001b[0m\u001b[1;32m    124\u001b[0m             \u001b[0;32mif\u001b[0m \u001b[0mcatalogue_paths\u001b[0m \u001b[0;32mis\u001b[0m \u001b[0;32mnot\u001b[0m \u001b[0;32mNone\u001b[0m\u001b[0;34m\u001b[0m\u001b[0;34m\u001b[0m\u001b[0m\n\u001b[1;32m    125\u001b[0m             \u001b[0;32melse\u001b[0m \u001b[0mself\u001b[0m\u001b[0;34m.\u001b[0m\u001b[0m_synthesise_df\u001b[0m\u001b[0;34m(\u001b[0m\u001b[0moverlap\u001b[0m\u001b[0;34m=\u001b[0m\u001b[0moverlap\u001b[0m\u001b[0;34m)\u001b[0m\u001b[0;34m\u001b[0m\u001b[0;34m\u001b[0m\u001b[0m\n",
            "\u001b[0;32m/content/Cata2Data/src/cata2data/cata2data.py\u001b[0m in \u001b[0;36m_build_df\u001b[0;34m(self)\u001b[0m\n\u001b[1;32m    380\u001b[0m             \u001b[0mtmp\u001b[0m\u001b[0;34m[\u001b[0m\u001b[0;34m\"field\"\u001b[0m\u001b[0;34m]\u001b[0m \u001b[0;34m=\u001b[0m \u001b[0mfield\u001b[0m\u001b[0;34m\u001b[0m\u001b[0;34m\u001b[0m\u001b[0m\n\u001b[1;32m    381\u001b[0m             \u001b[0mdf\u001b[0m\u001b[0;34m.\u001b[0m\u001b[0mappend\u001b[0m\u001b[0;34m(\u001b[0m\u001b[0mtmp\u001b[0m\u001b[0;34m)\u001b[0m\u001b[0;34m\u001b[0m\u001b[0;34m\u001b[0m\u001b[0m\n\u001b[0;32m--> 382\u001b[0;31m         \u001b[0mdf\u001b[0m \u001b[0;34m=\u001b[0m \u001b[0mpd\u001b[0m\u001b[0;34m.\u001b[0m\u001b[0mconcat\u001b[0m\u001b[0;34m(\u001b[0m\u001b[0mdf\u001b[0m\u001b[0;34m,\u001b[0m \u001b[0mignore_index\u001b[0m\u001b[0;34m=\u001b[0m\u001b[0;32mTrue\u001b[0m\u001b[0;34m)\u001b[0m\u001b[0;34m\u001b[0m\u001b[0;34m\u001b[0m\u001b[0m\n\u001b[0m\u001b[1;32m    383\u001b[0m         \u001b[0;32mif\u001b[0m \u001b[0mself\u001b[0m\u001b[0;34m.\u001b[0m\u001b[0mcatalogue_preprocessing\u001b[0m \u001b[0;32mis\u001b[0m \u001b[0;32mnot\u001b[0m \u001b[0;32mNone\u001b[0m\u001b[0;34m:\u001b[0m\u001b[0;34m\u001b[0m\u001b[0;34m\u001b[0m\u001b[0m\n\u001b[1;32m    384\u001b[0m             \u001b[0mdf\u001b[0m \u001b[0;34m=\u001b[0m \u001b[0mself\u001b[0m\u001b[0;34m.\u001b[0m\u001b[0mcatalogue_preprocessing\u001b[0m\u001b[0;34m(\u001b[0m\u001b[0mdf\u001b[0m\u001b[0;34m)\u001b[0m\u001b[0;34m\u001b[0m\u001b[0;34m\u001b[0m\u001b[0m\n",
            "\u001b[0;32m/usr/local/lib/python3.10/dist-packages/pandas/core/reshape/concat.py\u001b[0m in \u001b[0;36mconcat\u001b[0;34m(objs, axis, join, ignore_index, keys, levels, names, verify_integrity, sort, copy)\u001b[0m\n\u001b[1;32m    378\u001b[0m         \u001b[0mcopy\u001b[0m \u001b[0;34m=\u001b[0m \u001b[0;32mFalse\u001b[0m\u001b[0;34m\u001b[0m\u001b[0;34m\u001b[0m\u001b[0m\n\u001b[1;32m    379\u001b[0m \u001b[0;34m\u001b[0m\u001b[0m\n\u001b[0;32m--> 380\u001b[0;31m     op = _Concatenator(\n\u001b[0m\u001b[1;32m    381\u001b[0m         \u001b[0mobjs\u001b[0m\u001b[0;34m,\u001b[0m\u001b[0;34m\u001b[0m\u001b[0;34m\u001b[0m\u001b[0m\n\u001b[1;32m    382\u001b[0m         \u001b[0maxis\u001b[0m\u001b[0;34m=\u001b[0m\u001b[0maxis\u001b[0m\u001b[0;34m,\u001b[0m\u001b[0;34m\u001b[0m\u001b[0;34m\u001b[0m\u001b[0m\n",
            "\u001b[0;32m/usr/local/lib/python3.10/dist-packages/pandas/core/reshape/concat.py\u001b[0m in \u001b[0;36m__init__\u001b[0;34m(self, objs, axis, join, keys, levels, names, ignore_index, verify_integrity, copy, sort)\u001b[0m\n\u001b[1;32m    441\u001b[0m         \u001b[0mself\u001b[0m\u001b[0;34m.\u001b[0m\u001b[0mcopy\u001b[0m \u001b[0;34m=\u001b[0m \u001b[0mcopy\u001b[0m\u001b[0;34m\u001b[0m\u001b[0;34m\u001b[0m\u001b[0m\n\u001b[1;32m    442\u001b[0m \u001b[0;34m\u001b[0m\u001b[0m\n\u001b[0;32m--> 443\u001b[0;31m         \u001b[0mobjs\u001b[0m\u001b[0;34m,\u001b[0m \u001b[0mkeys\u001b[0m \u001b[0;34m=\u001b[0m \u001b[0mself\u001b[0m\u001b[0;34m.\u001b[0m\u001b[0m_clean_keys_and_objs\u001b[0m\u001b[0;34m(\u001b[0m\u001b[0mobjs\u001b[0m\u001b[0;34m,\u001b[0m \u001b[0mkeys\u001b[0m\u001b[0;34m)\u001b[0m\u001b[0;34m\u001b[0m\u001b[0;34m\u001b[0m\u001b[0m\n\u001b[0m\u001b[1;32m    444\u001b[0m \u001b[0;34m\u001b[0m\u001b[0m\n\u001b[1;32m    445\u001b[0m         \u001b[0;31m# figure out what our result ndim is going to be\u001b[0m\u001b[0;34m\u001b[0m\u001b[0;34m\u001b[0m\u001b[0m\n",
            "\u001b[0;32m/usr/local/lib/python3.10/dist-packages/pandas/core/reshape/concat.py\u001b[0m in \u001b[0;36m_clean_keys_and_objs\u001b[0;34m(self, objs, keys)\u001b[0m\n\u001b[1;32m    503\u001b[0m \u001b[0;34m\u001b[0m\u001b[0m\n\u001b[1;32m    504\u001b[0m         \u001b[0;32mif\u001b[0m \u001b[0mlen\u001b[0m\u001b[0;34m(\u001b[0m\u001b[0mobjs_list\u001b[0m\u001b[0;34m)\u001b[0m \u001b[0;34m==\u001b[0m \u001b[0;36m0\u001b[0m\u001b[0;34m:\u001b[0m\u001b[0;34m\u001b[0m\u001b[0;34m\u001b[0m\u001b[0m\n\u001b[0;32m--> 505\u001b[0;31m             \u001b[0;32mraise\u001b[0m \u001b[0mValueError\u001b[0m\u001b[0;34m(\u001b[0m\u001b[0;34m\"No objects to concatenate\"\u001b[0m\u001b[0;34m)\u001b[0m\u001b[0;34m\u001b[0m\u001b[0;34m\u001b[0m\u001b[0m\n\u001b[0m\u001b[1;32m    506\u001b[0m \u001b[0;34m\u001b[0m\u001b[0m\n\u001b[1;32m    507\u001b[0m         \u001b[0;32mif\u001b[0m \u001b[0mkeys\u001b[0m \u001b[0;32mis\u001b[0m \u001b[0;32mNone\u001b[0m\u001b[0;34m:\u001b[0m\u001b[0;34m\u001b[0m\u001b[0;34m\u001b[0m\u001b[0m\n",
            "\u001b[0;31mValueError\u001b[0m: No objects to concatenate"
          ]
        }
      ]
    },
    {
      "cell_type": "code",
      "source": [
        "import cata2data\n"
      ],
      "metadata": {
        "id": "n1KDqpygWc3T",
        "outputId": "f5be359a-3206-45ac-8834-7aa302638c05",
        "colab": {
          "base_uri": "https://localhost:8080/",
          "height": 322
        }
      },
      "execution_count": 10,
      "outputs": [
        {
          "output_type": "error",
          "ename": "ModuleNotFoundError",
          "evalue": "No module named 'cata2data'",
          "traceback": [
            "\u001b[0;31m---------------------------------------------------------------------------\u001b[0m",
            "\u001b[0;31mModuleNotFoundError\u001b[0m                       Traceback (most recent call last)",
            "\u001b[0;32m<ipython-input-10-ff8fef7974e3>\u001b[0m in \u001b[0;36m<cell line: 1>\u001b[0;34m()\u001b[0m\n\u001b[0;32m----> 1\u001b[0;31m \u001b[0;32mimport\u001b[0m \u001b[0mcata2data\u001b[0m\u001b[0;34m\u001b[0m\u001b[0;34m\u001b[0m\u001b[0m\n\u001b[0m",
            "\u001b[0;31mModuleNotFoundError\u001b[0m: No module named 'cata2data'",
            "",
            "\u001b[0;31m---------------------------------------------------------------------------\u001b[0;32m\nNOTE: If your import is failing due to a missing package, you can\nmanually install dependencies using either !pip or !apt.\n\nTo view examples of installing some common dependencies, click the\n\"Open Examples\" button below.\n\u001b[0;31m---------------------------------------------------------------------------\u001b[0m\n"
          ],
          "errorDetails": {
            "actions": [
              {
                "action": "open_url",
                "actionText": "Open Examples",
                "url": "/notebooks/snippets/importing_libraries.ipynb"
              }
            ]
          }
        }
      ]
    },
    {
      "cell_type": "code",
      "source": [
        "!pip list"
      ],
      "metadata": {
        "id": "ucMGTLESWrds",
        "outputId": "b81cc3be-2767-41d5-ceb3-d625f62b51c3",
        "colab": {
          "base_uri": "https://localhost:8080/"
        }
      },
      "execution_count": 11,
      "outputs": [
        {
          "output_type": "stream",
          "name": "stdout",
          "text": [
            "Package                          Version               Editable project location\n",
            "-------------------------------- --------------------- -------------------------\n",
            "absl-py                          1.4.0\n",
            "accelerate                       0.34.2\n",
            "aiohappyeyeballs                 2.4.0\n",
            "aiohttp                          3.10.5\n",
            "aiosignal                        1.3.1\n",
            "alabaster                        0.7.16\n",
            "albucore                         0.0.16\n",
            "albumentations                   1.4.15\n",
            "altair                           4.2.2\n",
            "annotated-types                  0.7.0\n",
            "anyio                            3.7.1\n",
            "argon2-cffi                      23.1.0\n",
            "argon2-cffi-bindings             21.2.0\n",
            "array_record                     0.5.1\n",
            "arviz                            0.19.0\n",
            "astropy                          5.3.4\n",
            "astropy-iers-data                0.2024.9.16.0.32.21\n",
            "astunparse                       1.6.3\n",
            "async-timeout                    4.0.3\n",
            "atpublic                         4.1.0\n",
            "attrs                            24.2.0\n",
            "audioread                        3.0.1\n",
            "autograd                         1.7.0\n",
            "babel                            2.16.0\n",
            "backcall                         0.2.0\n",
            "beautifulsoup4                   4.12.3\n",
            "bidict                           0.23.1\n",
            "bigframes                        1.17.0\n",
            "bigquery-magics                  0.2.0\n",
            "bleach                           6.1.0\n",
            "blinker                          1.4\n",
            "blis                             0.7.11\n",
            "blosc2                           2.0.0\n",
            "bokeh                            3.4.3\n",
            "bqplot                           0.12.43\n",
            "branca                           0.7.2\n",
            "build                            1.2.2\n",
            "CacheControl                     0.14.0\n",
            "cachetools                       5.5.0\n",
            "casa-formats-io                  0.3.0\n",
            "cata2data                        0.1.dev111            /content/Cata2Data\n",
            "catalogue                        2.0.10\n",
            "certifi                          2024.8.30\n",
            "cffi                             1.17.1\n",
            "chardet                          5.2.0\n",
            "charset-normalizer               3.3.2\n",
            "chex                             0.1.86\n",
            "clarabel                         0.9.0\n",
            "click                            8.1.7\n",
            "cloudpathlib                     0.19.0\n",
            "cloudpickle                      2.2.1\n",
            "cmake                            3.30.3\n",
            "cmdstanpy                        1.2.4\n",
            "colorcet                         3.1.0\n",
            "colorlover                       0.3.0\n",
            "colour                           0.1.5\n",
            "community                        1.0.0b1\n",
            "confection                       0.1.5\n",
            "cons                             0.4.6\n",
            "contextlib2                      21.6.0\n",
            "contourpy                        1.3.0\n",
            "cryptography                     43.0.1\n",
            "cuda-python                      12.2.1\n",
            "cudf-cu12                        24.4.1\n",
            "cufflinks                        0.17.3\n",
            "cupy-cuda12x                     12.2.0\n",
            "cvxopt                           1.3.2\n",
            "cvxpy                            1.5.3\n",
            "cycler                           0.12.1\n",
            "cymem                            2.0.8\n",
            "Cython                           3.0.11\n",
            "dask                             2024.8.0\n",
            "datascience                      0.17.6\n",
            "db-dtypes                        1.3.0\n",
            "dbus-python                      1.2.18\n",
            "debugpy                          1.6.6\n",
            "decorator                        4.4.2\n",
            "defusedxml                       0.7.1\n",
            "distributed                      2024.8.0\n",
            "distro                           1.7.0\n",
            "dlib                             19.24.2\n",
            "dm-tree                          0.1.8\n",
            "docstring_parser                 0.16\n",
            "docutils                         0.18.1\n",
            "dopamine_rl                      4.0.9\n",
            "duckdb                           1.1.0\n",
            "earthengine-api                  1.0.0\n",
            "easydict                         1.13\n",
            "ecos                             2.0.14\n",
            "editdistance                     0.8.1\n",
            "eerepr                           0.0.4\n",
            "einops                           0.8.0\n",
            "en-core-web-sm                   3.7.1\n",
            "entrypoints                      0.4\n",
            "et-xmlfile                       1.1.0\n",
            "etils                            1.9.4\n",
            "etuples                          0.3.9\n",
            "eval_type_backport               0.2.0\n",
            "exceptiongroup                   1.2.2\n",
            "fastai                           2.7.17\n",
            "fastcore                         1.7.8\n",
            "fastdownload                     0.0.7\n",
            "fastjsonschema                   2.20.0\n",
            "fastprogress                     1.0.3\n",
            "fastrlock                        0.8.2\n",
            "filelock                         3.16.1\n",
            "firebase-admin                   6.5.0\n",
            "Flask                            2.2.5\n",
            "flatbuffers                      24.3.25\n",
            "flax                             0.8.4\n",
            "folium                           0.17.0\n",
            "fonttools                        4.53.1\n",
            "frozendict                       2.4.4\n",
            "frozenlist                       1.4.1\n",
            "fsspec                           2024.6.1\n",
            "future                           1.0.0\n",
            "gast                             0.6.0\n",
            "gcsfs                            2024.6.1\n",
            "GDAL                             3.6.4\n",
            "gdown                            5.1.0\n",
            "geemap                           0.34.2\n",
            "gensim                           4.3.3\n",
            "geocoder                         1.38.1\n",
            "geographiclib                    2.0\n",
            "geopandas                        1.0.1\n",
            "geopy                            2.4.1\n",
            "gin-config                       0.5.0\n",
            "glob2                            0.7\n",
            "google                           2.0.3\n",
            "google-ai-generativelanguage     0.6.6\n",
            "google-api-core                  2.19.2\n",
            "google-api-python-client         2.137.0\n",
            "google-auth                      2.27.0\n",
            "google-auth-httplib2             0.2.0\n",
            "google-auth-oauthlib             1.2.1\n",
            "google-cloud-aiplatform          1.67.0\n",
            "google-cloud-bigquery            3.25.0\n",
            "google-cloud-bigquery-connection 1.15.5\n",
            "google-cloud-bigquery-storage    2.26.0\n",
            "google-cloud-bigtable            2.26.0\n",
            "google-cloud-core                2.4.1\n",
            "google-cloud-datastore           2.19.0\n",
            "google-cloud-firestore           2.16.1\n",
            "google-cloud-functions           1.16.5\n",
            "google-cloud-iam                 2.15.2\n",
            "google-cloud-language            2.13.4\n",
            "google-cloud-pubsub              2.23.1\n",
            "google-cloud-resource-manager    1.12.5\n",
            "google-cloud-storage             2.8.0\n",
            "google-cloud-translate           3.15.5\n",
            "google-colab                     1.0.0\n",
            "google-crc32c                    1.6.0\n",
            "google-generativeai              0.7.2\n",
            "google-pasta                     0.2.0\n",
            "google-resumable-media           2.7.2\n",
            "googleapis-common-protos         1.65.0\n",
            "googledrivedownloader            0.4\n",
            "graphviz                         0.20.3\n",
            "greenlet                         3.1.0\n",
            "grpc-google-iam-v1               0.13.1\n",
            "grpcio                           1.64.1\n",
            "grpcio-status                    1.48.2\n",
            "gspread                          6.0.2\n",
            "gspread-dataframe                3.3.1\n",
            "gym                              0.25.2\n",
            "gym-notices                      0.0.8\n",
            "h5netcdf                         1.3.0\n",
            "h5py                             3.11.0\n",
            "holidays                         0.57\n",
            "holoviews                        1.19.1\n",
            "html5lib                         1.1\n",
            "httpimport                       1.4.0\n",
            "httplib2                         0.22.0\n",
            "huggingface-hub                  0.24.7\n",
            "humanize                         4.10.0\n",
            "hyperopt                         0.2.7\n",
            "ibis-framework                   8.0.0\n",
            "idna                             3.10\n",
            "imageio                          2.35.1\n",
            "imageio-ffmpeg                   0.5.1\n",
            "imagesize                        1.4.1\n",
            "imbalanced-learn                 0.12.3\n",
            "imgaug                           0.4.0\n",
            "immutabledict                    4.2.0\n",
            "importlib_metadata               8.5.0\n",
            "importlib_resources              6.4.5\n",
            "imutils                          0.5.4\n",
            "inflect                          7.4.0\n",
            "iniconfig                        2.0.0\n",
            "intel-cmplr-lib-ur               2024.2.1\n",
            "intel-openmp                     2024.2.1\n",
            "ipyevents                        2.0.2\n",
            "ipyfilechooser                   0.6.0\n",
            "ipykernel                        5.5.6\n",
            "ipyleaflet                       0.19.2\n",
            "ipyparallel                      8.8.0\n",
            "ipython                          7.34.0\n",
            "ipython-genutils                 0.2.0\n",
            "ipython-sql                      0.5.0\n",
            "ipytree                          0.2.2\n",
            "ipywidgets                       7.7.1\n",
            "itsdangerous                     2.2.0\n",
            "jax                              0.4.26\n",
            "jaxlib                           0.4.26+cuda12.cudnn89\n",
            "jeepney                          0.7.1\n",
            "jellyfish                        1.1.0\n",
            "jieba                            0.42.1\n",
            "Jinja2                           3.1.4\n",
            "joblib                           1.4.2\n",
            "jsonpickle                       3.3.0\n",
            "jsonschema                       4.23.0\n",
            "jsonschema-specifications        2023.12.1\n",
            "jupyter-client                   6.1.12\n",
            "jupyter-console                  6.1.0\n",
            "jupyter_core                     5.7.2\n",
            "jupyter-leaflet                  0.19.2\n",
            "jupyter-server                   1.24.0\n",
            "jupyterlab_pygments              0.3.0\n",
            "jupyterlab_widgets               3.0.13\n",
            "kaggle                           1.6.17\n",
            "kagglehub                        0.2.9\n",
            "keras                            3.4.1\n",
            "keyring                          23.5.0\n",
            "kiwisolver                       1.4.7\n",
            "langcodes                        3.4.0\n",
            "language_data                    1.2.0\n",
            "launchpadlib                     1.10.16\n",
            "lazr.restfulclient               0.14.4\n",
            "lazr.uri                         1.0.6\n",
            "lazy_loader                      0.4\n",
            "libclang                         18.1.1\n",
            "librosa                          0.10.2.post1\n",
            "lightgbm                         4.5.0\n",
            "linkify-it-py                    2.0.3\n",
            "llvmlite                         0.43.0\n",
            "locket                           1.0.0\n",
            "logical-unification              0.4.6\n",
            "lxml                             4.9.4\n",
            "marisa-trie                      1.2.0\n",
            "Markdown                         3.7\n",
            "markdown-it-py                   3.0.0\n",
            "MarkupSafe                       2.1.5\n",
            "matplotlib                       3.7.1\n",
            "matplotlib-inline                0.1.7\n",
            "matplotlib-venn                  1.1.1\n",
            "mdit-py-plugins                  0.4.2\n",
            "mdurl                            0.1.2\n",
            "miniKanren                       1.0.3\n",
            "missingno                        0.5.2\n",
            "mistune                          0.8.4\n",
            "mizani                           0.11.4\n",
            "mkl                              2024.2.2\n",
            "ml-dtypes                        0.4.1\n",
            "mlxtend                          0.23.1\n",
            "more-itertools                   10.5.0\n",
            "moviepy                          1.0.3\n",
            "mpmath                           1.3.0\n",
            "msgpack                          1.0.8\n",
            "multidict                        6.1.0\n",
            "multipledispatch                 1.0.0\n",
            "multitasking                     0.0.11\n",
            "murmurhash                       1.0.10\n",
            "music21                          9.1.0\n",
            "namex                            0.0.8\n",
            "natsort                          8.4.0\n",
            "nbclassic                        1.1.0\n",
            "nbclient                         0.10.0\n",
            "nbconvert                        6.5.4\n",
            "nbformat                         5.10.4\n",
            "nest-asyncio                     1.6.0\n",
            "networkx                         3.3\n",
            "nibabel                          5.2.1\n",
            "nltk                             3.8.1\n",
            "notebook                         6.5.5\n",
            "notebook_shim                    0.2.4\n",
            "numba                            0.60.0\n",
            "numexpr                          2.10.1\n",
            "numpy                            1.26.4\n",
            "nvidia-nccl-cu12                 2.23.4\n",
            "nvtx                             0.2.10\n",
            "oauth2client                     4.1.3\n",
            "oauthlib                         3.2.2\n",
            "opencv-contrib-python            4.10.0.84\n",
            "opencv-python                    4.10.0.84\n",
            "opencv-python-headless           4.10.0.84\n",
            "openpyxl                         3.1.5\n",
            "opt-einsum                       3.3.0\n",
            "optax                            0.2.2\n",
            "optree                           0.12.1\n",
            "orbax-checkpoint                 0.6.4\n",
            "osqp                             0.6.7.post0\n",
            "packaging                        24.1\n",
            "pandas                           2.1.4\n",
            "pandas-datareader                0.10.0\n",
            "pandas-gbq                       0.23.1\n",
            "pandas-stubs                     2.1.4.231227\n",
            "pandocfilters                    1.5.1\n",
            "panel                            1.4.5\n",
            "param                            2.1.1\n",
            "parso                            0.8.4\n",
            "parsy                            2.1\n",
            "partd                            1.4.2\n",
            "pathlib                          1.0.1\n",
            "patsy                            0.5.6\n",
            "peewee                           3.17.6\n",
            "pexpect                          4.9.0\n",
            "pickleshare                      0.7.5\n",
            "pillow                           10.4.0\n",
            "pip                              24.1.2\n",
            "pip-tools                        7.4.1\n",
            "platformdirs                     4.3.6\n",
            "plotly                           5.15.0\n",
            "plotnine                         0.13.6\n",
            "pluggy                           1.5.0\n",
            "polars                           1.6.0\n",
            "pooch                            1.8.2\n",
            "portpicker                       1.5.2\n",
            "prefetch_generator               1.0.3\n",
            "preshed                          3.0.9\n",
            "prettytable                      3.11.0\n",
            "proglog                          0.1.10\n",
            "progressbar2                     4.5.0\n",
            "prometheus_client                0.20.0\n",
            "promise                          2.3\n",
            "prompt_toolkit                   3.0.47\n",
            "prophet                          1.1.5\n",
            "proto-plus                       1.24.0\n",
            "protobuf                         3.20.3\n",
            "psutil                           5.9.5\n",
            "psycopg2                         2.9.9\n",
            "ptyprocess                       0.7.0\n",
            "py-cpuinfo                       9.0.0\n",
            "py4j                             0.10.9.7\n",
            "pyarrow                          14.0.2\n",
            "pyarrow-hotfix                   0.6\n",
            "pyasn1                           0.6.1\n",
            "pyasn1_modules                   0.4.1\n",
            "pycocotools                      2.0.8\n",
            "pycparser                        2.22\n",
            "pydantic                         2.9.2\n",
            "pydantic_core                    2.23.4\n",
            "pydata-google-auth               1.8.2\n",
            "pydot                            3.0.1\n",
            "pydot-ng                         2.0.0\n",
            "pydotplus                        2.0.2\n",
            "PyDrive                          1.3.1\n",
            "PyDrive2                         1.20.0\n",
            "pyerfa                           2.0.1.4\n",
            "pygame                           2.6.0\n",
            "Pygments                         2.18.0\n",
            "PyGObject                        3.42.1\n",
            "PyJWT                            2.9.0\n",
            "pymc                             5.16.2\n",
            "pymystem3                        0.2.0\n",
            "pynvjitlink-cu12                 0.3.0\n",
            "pyogrio                          0.9.0\n",
            "PyOpenGL                         3.1.7\n",
            "pyOpenSSL                        24.2.1\n",
            "pyparsing                        3.1.4\n",
            "pyperclip                        1.9.0\n",
            "pyproj                           3.6.1\n",
            "pyproject_hooks                  1.1.0\n",
            "pyshp                            2.3.1\n",
            "PySocks                          1.7.1\n",
            "pytensor                         2.25.4\n",
            "pytest                           7.4.4\n",
            "python-apt                       2.4.0\n",
            "python-box                       7.2.0\n",
            "python-dateutil                  2.8.2\n",
            "python-louvain                   0.16\n",
            "python-slugify                   8.0.4\n",
            "python-utils                     3.8.2\n",
            "pytz                             2024.2\n",
            "pyviz_comms                      3.0.3\n",
            "PyYAML                           6.0.2\n",
            "pyzmq                            24.0.1\n",
            "qdldl                            0.1.7.post4\n",
            "radio-beam                       0.3.7\n",
            "ratelim                          0.1.6\n",
            "referencing                      0.35.1\n",
            "regex                            2024.9.11\n",
            "regions                          0.7\n",
            "requests                         2.32.3\n",
            "requests-oauthlib                1.3.1\n",
            "requirements-parser              0.9.0\n",
            "rich                             13.8.1\n",
            "rmm-cu12                         24.4.0\n",
            "rpds-py                          0.20.0\n",
            "rpy2                             3.4.2\n",
            "rsa                              4.9\n",
            "safetensors                      0.4.5\n",
            "scikit-image                     0.23.2\n",
            "scikit-learn                     1.3.2\n",
            "scipy                            1.13.1\n",
            "scooby                           0.10.0\n",
            "scs                              3.2.7\n",
            "seaborn                          0.13.1\n",
            "SecretStorage                    3.3.1\n",
            "Send2Trash                       1.8.3\n",
            "sentencepiece                    0.1.99\n",
            "setuptools                       71.0.4\n",
            "shapely                          2.0.6\n",
            "shellingham                      1.5.4\n",
            "simple-parsing                   0.1.6\n",
            "six                              1.16.0\n",
            "sklearn-pandas                   2.2.0\n",
            "smart-open                       7.0.4\n",
            "sniffio                          1.3.1\n",
            "snowballstemmer                  2.2.0\n",
            "sortedcontainers                 2.4.0\n",
            "soundfile                        0.12.1\n",
            "soupsieve                        2.6\n",
            "soxr                             0.5.0.post1\n",
            "spacy                            3.7.6\n",
            "spacy-legacy                     3.0.12\n",
            "spacy-loggers                    1.0.5\n",
            "spectral-cube                    0.6.0\n",
            "Sphinx                           5.0.2\n",
            "sphinxcontrib-applehelp          2.0.0\n",
            "sphinxcontrib-devhelp            2.0.0\n",
            "sphinxcontrib-htmlhelp           2.1.0\n",
            "sphinxcontrib-jsmath             1.0.1\n",
            "sphinxcontrib-qthelp             2.0.0\n",
            "sphinxcontrib-serializinghtml    2.0.0\n",
            "SQLAlchemy                       2.0.35\n",
            "sqlglot                          20.11.0\n",
            "sqlparse                         0.5.1\n",
            "srsly                            2.4.8\n",
            "stanio                           0.5.1\n",
            "statsmodels                      0.14.3\n",
            "StrEnum                          0.4.15\n",
            "sympy                            1.13.2\n",
            "tables                           3.8.0\n",
            "tabulate                         0.9.0\n",
            "tbb                              2021.13.1\n",
            "tblib                            3.0.0\n",
            "tenacity                         9.0.0\n",
            "tensorboard                      2.17.0\n",
            "tensorboard-data-server          0.7.2\n",
            "tensorflow                       2.17.0\n",
            "tensorflow-datasets              4.9.6\n",
            "tensorflow-hub                   0.16.1\n",
            "tensorflow-io-gcs-filesystem     0.37.1\n",
            "tensorflow-metadata              1.15.0\n",
            "tensorflow-probability           0.24.0\n",
            "tensorstore                      0.1.65\n",
            "termcolor                        2.4.0\n",
            "terminado                        0.18.1\n",
            "text-unidecode                   1.3\n",
            "textblob                         0.17.1\n",
            "tf_keras                         2.17.0\n",
            "tf-slim                          1.1.0\n",
            "thinc                            8.2.5\n",
            "threadpoolctl                    3.5.0\n",
            "tifffile                         2024.8.30\n",
            "tinycss2                         1.3.0\n",
            "tokenizers                       0.19.1\n",
            "toml                             0.10.2\n",
            "tomli                            2.0.1\n",
            "toolz                            0.12.1\n",
            "torch                            2.4.1+cu121\n",
            "torchaudio                       2.4.1+cu121\n",
            "torchsummary                     1.5.1\n",
            "torchvision                      0.19.1+cu121\n",
            "tornado                          6.3.3\n",
            "tqdm                             4.66.5\n",
            "traitlets                        5.7.1\n",
            "traittypes                       0.2.1\n",
            "transformers                     4.44.2\n",
            "tweepy                           4.14.0\n",
            "typeguard                        4.3.0\n",
            "typer                            0.12.5\n",
            "types-pytz                       2024.2.0.20240913\n",
            "types-setuptools                 75.1.0.20240917\n",
            "typing_extensions                4.12.2\n",
            "tzdata                           2024.1\n",
            "tzlocal                          5.2\n",
            "uc-micro-py                      1.0.3\n",
            "uritemplate                      4.1.1\n",
            "urllib3                          2.0.7\n",
            "vega-datasets                    0.9.0\n",
            "wadllib                          1.3.6\n",
            "wasabi                           1.1.3\n",
            "wcwidth                          0.2.13\n",
            "weasel                           0.4.1\n",
            "webcolors                        24.8.0\n",
            "webencodings                     0.5.1\n",
            "websocket-client                 1.8.0\n",
            "Werkzeug                         3.0.4\n",
            "wheel                            0.44.0\n",
            "widgetsnbextension               3.6.9\n",
            "wordcloud                        1.9.3\n",
            "wrapt                            1.16.0\n",
            "xarray                           2024.9.0\n",
            "xarray-einstats                  0.7.0\n",
            "xgboost                          2.1.1\n",
            "xlrd                             2.0.1\n",
            "xyzservices                      2024.9.0\n",
            "yarl                             1.11.1\n",
            "yellowbrick                      1.5\n",
            "yfinance                         0.2.43\n",
            "zict                             3.0.0\n",
            "zipp                             3.20.2\n"
          ]
        }
      ]
    },
    {
      "cell_type": "code",
      "source": [],
      "metadata": {
        "id": "edilEY3vW-rv"
      },
      "execution_count": null,
      "outputs": []
    }
  ]
}