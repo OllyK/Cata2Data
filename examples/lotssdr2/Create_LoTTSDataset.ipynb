{
 "cells": [
  {
   "cell_type": "code",
   "execution_count": null,
   "id": "e06b0a43-62e7-48b5-a009-e37e691024c9",
   "metadata": {},
   "outputs": [],
   "source": [
    "from data import LoTTSDataset\n",
    "from torchvision.transforms import v2\n",
    "import torch\n",
    "\n",
    "transforms = v2.Compose(\n",
    "    [\n",
    "        v2.ToImage(),\n",
    "        v2.ToDtype(torch.float32),\n",
    "        v2.Resize(size=(64, 64)),\n",
    "    ]\n",
    ")\n",
    "\n",
    "data = LoTTSDataset(\n",
    "    data_folder=\"./data/lotssdr2/public\",  # Change this to where you saved your data\n",
    "    cutout_scaling=1.5,\n",
    "    transform=transforms,\n",
    ")\n",
    "\n",
    "for i in range(len(data)):\n",
    "    if i > 10:\n",
    "        break\n",
    "    data.plot(\n",
    "        i,\n",
    "        contours=True,\n",
    "        sigma_name=\"Isl_rms\",\n",
    "        min_sigma=2,\n",
    "        title=data.df.iloc[i][\"Source_Name\"] + data.df.iloc[i][\"S_Code\"],\n",
    "    )\n",
    "\n",
    "data.df.head()"
   ]
  }
 ],
 "metadata": {
  "kernelspec": {
   "display_name": "Python 3 (ipykernel)",
   "language": "python",
   "name": "python3"
  },
  "language_info": {
   "codemirror_mode": {
    "name": "ipython",
    "version": 3
   },
   "file_extension": ".py",
   "mimetype": "text/x-python",
   "name": "python",
   "nbconvert_exporter": "python",
   "pygments_lexer": "ipython3",
   "version": "3.11.9"
  }
 },
 "nbformat": 4,
 "nbformat_minor": 5
}
