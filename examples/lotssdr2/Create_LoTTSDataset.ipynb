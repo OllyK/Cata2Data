{
  "cells": [
    {
      "cell_type": "markdown",
      "metadata": {
        "colab_type": "text",
        "id": "view-in-github"
      },
      "source": [
        "<a target=\"_blank\" href=\"https://colab.research.google.com/github/mb010/Cata2Data/blob/main/examples/lotssdr2/Create_LoTTSDataset.ipynb\">\n",
        "  <img src=\"https://colab.research.google.com/assets/colab-badge.svg\" alt=\"Open In Colab\"/>\n",
        "</a>"
      ]
    },
    {
      "cell_type": "markdown",
      "metadata": {
        "id": "0p1nWoeAcBL1"
      },
      "source": [
        "## Create a LoTTS Dataset Using Cata2Data"
      ]
    },
    {
      "cell_type": "markdown",
      "metadata": {
        "id": "IewboBsacOya"
      },
      "source": [
        "To start, create a local clone of this repository\n",
        "\n",
        "Install cata2data into your environment (We recommend that you should use a venv on your local machine).\n",
        "\n"
      ]
    },
    {
      "cell_type": "code",
      "execution_count": null,
      "metadata": {
        "id": "4OjNn-aHGrye"
      },
      "outputs": [],
      "source": [
        "!git clone https://github.com/mb010/Cata2Data.git && pip install ./Cata2Data && cp Cata2Data/examples/lotssdr2/data.py ."
      ]
    },
    {
      "cell_type": "markdown",
      "metadata": {
        "id": "hszOwcQicuL7"
      },
      "source": [
        "## Download the data\n",
        "\n",
        "Use the `data_scrapper.py` script to download the image files. If you want to just download one pointing (instead of all 841 pointings; 434 GB), then call it using the --test flag:"
      ]
    },
    {
      "cell_type": "code",
      "execution_count": null,
      "metadata": {
        "id": "lAC3ao-_H36q"
      },
      "outputs": [],
      "source": [
        "%%python Cata2Data/examples/lotssdr2/data_scrapper.py --dir downloaded_data/ --test"
      ]
    },
    {
      "cell_type": "markdown",
      "metadata": {
        "id": "nRpXlcpgf3y4"
      },
      "source": [
        "This will have downloaded a `.fits` image file"
      ]
    },
    {
      "cell_type": "code",
      "execution_count": null,
      "metadata": {
        "id": "bEKXzeCNf3ZZ"
      },
      "outputs": [],
      "source": [
        "!ls downloaded_data/public/DR2/mosaics/P000+23/"
      ]
    },
    {
      "cell_type": "markdown",
      "metadata": {
        "id": "E-GKT9tMgZmg"
      },
      "source": [
        "Next, you need to download the catalog directly from the website at this link (3.9 GB). This example dataloader is currently built to work with the [Radio-optical cross match](https://lofar-surveys.org/dr2_release.html#:~:text=Radio%2Doptical%20crossmatch%20catalogue) catalog described in [Hardcastle et al. 2023](https://arxiv.org/abs/2309.00102)."
      ]
    },
    {
      "cell_type": "code",
      "execution_count": null,
      "metadata": {
        "id": "FH9feKhYgZNg"
      },
      "outputs": [],
      "source": [
        "!wget -P downloaded_data/ https://lofar-surveys.org/public/DR2/catalogues/combined-release-v1.1-LM_opt_mass.fits"
      ]
    },
    {
      "cell_type": "markdown",
      "metadata": {
        "id": "gD-CHCdVh4mk"
      },
      "source": [
        "## Split the Catalogue\n",
        "\n",
        "This will take the full catalog and split it into one catalog per image and save those into the folder where each of those images is stored. This is what Cata2Data currently expects - lists of images and catalogs with equal length to use to construct a dataloader."
      ]
    },
    {
      "cell_type": "code",
      "execution_count": null,
      "metadata": {
        "id": "DOkJxKa4rFsI"
      },
      "outputs": [],
      "source": [
        "%%python /content/Cata2Data/examples/lotssdr2/catalog_splitter.py --catalog_path downloaded_data/combined-release-v1.1-LM_opt_mass.fits --image_paths downloaded_data/public/DR2/mosaics/P000+23/"
      ]
    },
    {
      "cell_type": "markdown",
      "metadata": {
        "id": "sISui8RyxNzY"
      },
      "source": [
        "## Construct the dataset\n",
        "\n",
        "Running the example cell below will construct a dataset from the data that has been downloaded. The LoTTSDataset class is imported from the [data.py file](https://github.com/mb010/Cata2Data/blob/main/examples/lotssdr2/data.py) before being populated with data from the `downloaded_data` directory. We then plot images for the first ten members of the dataset and print the first ten rows of the corresponding dataframe."
      ]
    },
    {
      "cell_type": "code",
      "execution_count": null,
      "metadata": {
        "id": "AnbFg6PyVx21"
      },
      "outputs": [],
      "source": [
        "from data import LoTTSDataset\n",
        "from torchvision.transforms import v2\n",
        "import torch\n",
        "\n",
        "transforms = v2.Compose(\n",
        "    [\n",
        "        v2.ToImage(),\n",
        "        v2.ToDtype(torch.float32),\n",
        "        v2.Resize(size=(64, 64)),\n",
        "    ]\n",
        ")\n",
        "\n",
        "data = LoTTSDataset(\n",
        "    data_folder=\"downloaded_data\",  # Change this to where you saved your data\n",
        "    cutout_scaling=1.5,\n",
        "    transform=transforms,\n",
        ")\n",
        "\n",
        "for i in range(len(data)):\n",
        "    if i > 10:\n",
        "        break\n",
        "    data.plot(\n",
        "        i,\n",
        "        contours=True,\n",
        "        sigma_name=\"Isl_rms\",\n",
        "        min_sigma=2,\n",
        "        title=data.df.iloc[i][\"Source_Name\"] + data.df.iloc[i][\"S_Code\"],\n",
        "    )\n",
        "\n",
        "data.df.head(10)"
      ]
    },
    {
      "cell_type": "code",
      "execution_count": null,
      "metadata": {
        "id": "HvmK7UdizYEo"
      },
      "outputs": [],
      "source": []
    }
  ],
  "metadata": {
    "colab": {
      "authorship_tag": "ABX9TyOOak3TSj8ruaDx439hKsct",
      "include_colab_link": true,
      "provenance": []
    },
    "kernelspec": {
      "display_name": "Python 3",
      "name": "python3"
    },
    "language_info": {
      "name": "python"
    }
  },
  "nbformat": 4,
  "nbformat_minor": 0
}
