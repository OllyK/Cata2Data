{
  "nbformat": 4,
  "nbformat_minor": 0,
  "metadata": {
    "colab": {
      "provenance": [],
      "authorship_tag": "ABX9TyOOak3TSj8ruaDx439hKsct",
      "include_colab_link": true
    },
    "kernelspec": {
      "name": "python3",
      "display_name": "Python 3"
    },
    "language_info": {
      "name": "python"
    }
  },
  "cells": [
    {
      "cell_type": "markdown",
      "metadata": {
        "id": "view-in-github",
        "colab_type": "text"
      },
      "source": [
        "<a href=\"https://colab.research.google.com/github/OllyK/Cata2Data/blob/colab/Copy_of_Create_LoTTS_Dataset.ipynb\" target=\"_parent\"><img src=\"https://colab.research.google.com/assets/colab-badge.svg\" alt=\"Open In Colab\"/></a>"
      ]
    },
    {
      "cell_type": "markdown",
      "source": [
        "## Create a LoTTS Dataset Using Cata2Data"
      ],
      "metadata": {
        "id": "0p1nWoeAcBL1"
      }
    },
    {
      "cell_type": "markdown",
      "source": [
        "To start, create a local clone of this repository\n",
        "\n",
        "Install cata2data into your local environment (We recommend that you should use a venv on your local machine).\n",
        "\n"
      ],
      "metadata": {
        "id": "IewboBsacOya"
      }
    },
    {
      "cell_type": "code",
      "execution_count": null,
      "metadata": {
        "id": "4OjNn-aHGrye"
      },
      "outputs": [],
      "source": [
        "!git clone https://github.com/mb010/Cata2Data.git && pip install ./Cata2Data && cp Cata2Data/examples/lotssdr2/data.py ."
      ]
    },
    {
      "cell_type": "markdown",
      "source": [
        "## Download the data\n",
        "\n",
        "Use the `data_scrapper.py` script to download the image files. If you want to just download one pointing (instead of all 841 pointings; 434 GB), then call it using the --test flag:"
      ],
      "metadata": {
        "id": "hszOwcQicuL7"
      }
    },
    {
      "cell_type": "code",
      "source": [
        "%%python Cata2Data/examples/lotssdr2/data_scrapper.py --dir downloaded_data/ --test"
      ],
      "metadata": {
        "id": "lAC3ao-_H36q"
      },
      "execution_count": null,
      "outputs": []
    },
    {
      "cell_type": "markdown",
      "source": [
        "This will have downloaded a .fits image file"
      ],
      "metadata": {
        "id": "nRpXlcpgf3y4"
      }
    },
    {
      "cell_type": "code",
      "source": [
        "!ls downloaded_data/public/DR2/mosaics/P000+23/"
      ],
      "metadata": {
        "id": "bEKXzeCNf3ZZ"
      },
      "execution_count": null,
      "outputs": []
    },
    {
      "cell_type": "markdown",
      "source": [
        "Next, you need to download the catalog directly from the website at this link (3.9 GB). This dataloader is currently built to work with the [Radio-optical cross match](https://lofar-surveys.org/dr2_release.html#:~:text=Radio%2Doptical%20crossmatch%20catalogue) catalog described in [Hardcastle et al. 2023](https://arxiv.org/abs/2309.00102)."
      ],
      "metadata": {
        "id": "E-GKT9tMgZmg"
      }
    },
    {
      "cell_type": "code",
      "source": [
        "!wget -P downloaded_data/ https://lofar-surveys.org/public/DR2/catalogues/combined-release-v1.1-LM_opt_mass.fits"
      ],
      "metadata": {
        "id": "FH9feKhYgZNg"
      },
      "execution_count": null,
      "outputs": []
    },
    {
      "cell_type": "markdown",
      "source": [
        "## Split the Catalogue\n",
        "\n",
        "This will take the full catalog and split it into one catalog per image and save those into the folder where each of those images is stored. This is what Cata2Data currently expects - lists of images and catalogs with equal length to use to construct a dataloader."
      ],
      "metadata": {
        "id": "gD-CHCdVh4mk"
      }
    },
    {
      "cell_type": "code",
      "source": [
        "%%python /content/Cata2Data/examples/lotssdr2/catalog_splitter.py --catalog_path downloaded_data/combined-release-v1.1-LM_opt_mass.fits --image_paths downloaded_data/public/DR2/mosaics/P000+23/"
      ],
      "metadata": {
        "id": "DOkJxKa4rFsI"
      },
      "execution_count": null,
      "outputs": []
    },
    {
      "cell_type": "markdown",
      "source": [
        "## Construct the dataset\n",
        "\n",
        "Running the example cell below will construct a dataset from the data that has been downloaded. The LoTTSDataset class is imported from the [data.py file](https://github.com/mb010/Cata2Data/blob/main/examples/lotssdr2/data.py) before being populated with data from the `downloaded_data` directory. We then plot images for the first ten members of the dataset and print the first ten rows of the corresponding dataframe."
      ],
      "metadata": {
        "id": "sISui8RyxNzY"
      }
    },
    {
      "cell_type": "code",
      "source": [
        "from data import LoTTSDataset\n",
        "from torchvision.transforms import v2\n",
        "import torch\n",
        "\n",
        "transforms = v2.Compose(\n",
        "    [\n",
        "        v2.ToImage(),\n",
        "        v2.ToDtype(torch.float32),\n",
        "        v2.Resize(size=(64, 64)),\n",
        "    ]\n",
        ")\n",
        "\n",
        "data = LoTTSDataset(\n",
        "    data_folder=\"downloaded_data\",  # Change this to where you saved your data\n",
        "    cutout_scaling=1.5,\n",
        "    transform=transforms,\n",
        ")\n",
        "\n",
        "for i in range(len(data)):\n",
        "    if i > 10:\n",
        "        break\n",
        "    data.plot(\n",
        "        i,\n",
        "        contours=True,\n",
        "        sigma_name=\"Isl_rms\",\n",
        "        min_sigma=2,\n",
        "        title=data.df.iloc[i][\"Source_Name\"] + data.df.iloc[i][\"S_Code\"],\n",
        "    )\n",
        "\n",
        "data.df.head(10)"
      ],
      "metadata": {
        "id": "AnbFg6PyVx21"
      },
      "execution_count": null,
      "outputs": []
    },
    {
      "cell_type": "code",
      "source": [],
      "metadata": {
        "id": "HvmK7UdizYEo"
      },
      "execution_count": null,
      "outputs": []
    }
  ]
}